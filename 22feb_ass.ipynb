{
 "cells": [
  {
   "cell_type": "markdown",
   "id": "06f976d9-b381-4a9b-9de1-0c67008e12f4",
   "metadata": {},
   "source": [
    "#Ans.1"
   ]
  },
  {
   "cell_type": "code",
   "execution_count": 1,
   "id": "e5ccb1da-929c-408c-a1fc-f97cd9d710aa",
   "metadata": {},
   "outputs": [],
   "source": [
    "import pandas as pd"
   ]
  },
  {
   "cell_type": "code",
   "execution_count": 2,
   "id": "4e9f4c0d-3d83-4248-b22e-f17dabe044aa",
   "metadata": {},
   "outputs": [
    {
     "name": "stdout",
     "output_type": "stream",
     "text": [
      "Requirement already satisfied: pandas in /opt/conda/lib/python3.10/site-packages (1.5.2)\n",
      "Requirement already satisfied: python-dateutil>=2.8.1 in /opt/conda/lib/python3.10/site-packages (from pandas) (2.8.2)\n",
      "Requirement already satisfied: pytz>=2020.1 in /opt/conda/lib/python3.10/site-packages (from pandas) (2022.6)\n",
      "Requirement already satisfied: numpy>=1.21.0 in /opt/conda/lib/python3.10/site-packages (from pandas) (1.23.5)\n",
      "Requirement already satisfied: six>=1.5 in /opt/conda/lib/python3.10/site-packages (from python-dateutil>=2.8.1->pandas) (1.16.0)\n",
      "Note: you may need to restart the kernel to use updated packages.\n"
     ]
    }
   ],
   "source": [
    "pip install pandas"
   ]
  },
  {
   "cell_type": "code",
   "execution_count": 3,
   "id": "8ecba283-84dd-4703-b09e-6ecc1cff6c48",
   "metadata": {},
   "outputs": [],
   "source": [
    "data = pd.Series([4,8,15,16,23,42])"
   ]
  },
  {
   "cell_type": "code",
   "execution_count": 4,
   "id": "7a80b771-74d4-4856-9dcb-1e968f67effa",
   "metadata": {},
   "outputs": [
    {
     "data": {
      "text/plain": [
       "0     4\n",
       "1     8\n",
       "2    15\n",
       "3    16\n",
       "4    23\n",
       "5    42\n",
       "dtype: int64"
      ]
     },
     "execution_count": 4,
     "metadata": {},
     "output_type": "execute_result"
    }
   ],
   "source": [
    "data"
   ]
  },
  {
   "cell_type": "markdown",
   "id": "6e9b127c-25e9-4d34-bf4f-bf9449f746b7",
   "metadata": {},
   "source": [
    "#Ans.2"
   ]
  },
  {
   "cell_type": "code",
   "execution_count": 5,
   "id": "05b34a92-bc26-4025-a03a-670605a40c59",
   "metadata": {},
   "outputs": [],
   "source": [
    "my_list = [1,2,3,4,5,6,7,8,9,10]\n",
    "\n",
    "my_series = pd.Series(my_list)"
   ]
  },
  {
   "cell_type": "code",
   "execution_count": 6,
   "id": "1feacca0-f981-44a2-8d51-babc883a7182",
   "metadata": {},
   "outputs": [
    {
     "data": {
      "text/plain": [
       "0     1\n",
       "1     2\n",
       "2     3\n",
       "3     4\n",
       "4     5\n",
       "5     6\n",
       "6     7\n",
       "7     8\n",
       "8     9\n",
       "9    10\n",
       "dtype: int64"
      ]
     },
     "execution_count": 6,
     "metadata": {},
     "output_type": "execute_result"
    }
   ],
   "source": [
    "my_series"
   ]
  },
  {
   "cell_type": "markdown",
   "id": "bb7867b6-0c79-4db0-ae95-10a6f3e4505f",
   "metadata": {},
   "source": [
    "#Ans.3"
   ]
  },
  {
   "cell_type": "code",
   "execution_count": 18,
   "id": "bd37604a-67b1-49cb-9dca-ec8c39586677",
   "metadata": {},
   "outputs": [],
   "source": [
    "data = {\n",
    "    'Name' : ['Alice','Bob','Cla'],\n",
    "    'Age' : [25,30,27],\n",
    "    'Gender' : ['Female', 'Male' , 'Female'],\n",
    "}\n",
    "\n",
    "df = pd.DataFrame(data)"
   ]
  },
  {
   "cell_type": "code",
   "execution_count": 19,
   "id": "04beb72f-4966-4666-a3fa-825920252792",
   "metadata": {},
   "outputs": [
    {
     "data": {
      "text/html": [
       "<div>\n",
       "<style scoped>\n",
       "    .dataframe tbody tr th:only-of-type {\n",
       "        vertical-align: middle;\n",
       "    }\n",
       "\n",
       "    .dataframe tbody tr th {\n",
       "        vertical-align: top;\n",
       "    }\n",
       "\n",
       "    .dataframe thead th {\n",
       "        text-align: right;\n",
       "    }\n",
       "</style>\n",
       "<table border=\"1\" class=\"dataframe\">\n",
       "  <thead>\n",
       "    <tr style=\"text-align: right;\">\n",
       "      <th></th>\n",
       "      <th>Name</th>\n",
       "      <th>Age</th>\n",
       "      <th>Gender</th>\n",
       "    </tr>\n",
       "  </thead>\n",
       "  <tbody>\n",
       "    <tr>\n",
       "      <th>0</th>\n",
       "      <td>Alice</td>\n",
       "      <td>25</td>\n",
       "      <td>Female</td>\n",
       "    </tr>\n",
       "    <tr>\n",
       "      <th>1</th>\n",
       "      <td>Bob</td>\n",
       "      <td>30</td>\n",
       "      <td>Male</td>\n",
       "    </tr>\n",
       "    <tr>\n",
       "      <th>2</th>\n",
       "      <td>Cla</td>\n",
       "      <td>27</td>\n",
       "      <td>Female</td>\n",
       "    </tr>\n",
       "  </tbody>\n",
       "</table>\n",
       "</div>"
      ],
      "text/plain": [
       "    Name  Age  Gender\n",
       "0  Alice   25  Female\n",
       "1    Bob   30    Male\n",
       "2    Cla   27  Female"
      ]
     },
     "execution_count": 19,
     "metadata": {},
     "output_type": "execute_result"
    }
   ],
   "source": [
    "df"
   ]
  },
  {
   "cell_type": "markdown",
   "id": "7644dccc-d8c2-45ca-9a52-0dc9d7ff7350",
   "metadata": {},
   "source": [
    "#Ans.4"
   ]
  },
  {
   "cell_type": "markdown",
   "id": "2440be68-6806-4934-b21e-32681f4709c0",
   "metadata": {},
   "source": [
    "In pandas, a DataFrame is a two-dimensional tabular data structure that consists of roes and columns, similar to a spreadsheet or a SQL table. Each columns in a DataFrame is a pandas Series, Which is a one-dimensional labeled array that can hold data of a single data type, such as integers , floats, or strings.\n",
    "\n",
    "\n",
    "The main difference between a DataFrame and a Series is that a DataFrame can hold multiple columns of data, while a Series holds a single column of data. A Series also has one-demensional index, while a DataFrame has both row and column indices."
   ]
  },
  {
   "cell_type": "code",
   "execution_count": 20,
   "id": "b2e30d7a-184a-44af-9a33-122485cec31a",
   "metadata": {},
   "outputs": [
    {
     "data": {
      "text/plain": [
       "Nmae       Alice\n",
       "Age           25\n",
       "Gender    Female\n",
       "dtype: object"
      ]
     },
     "execution_count": 20,
     "metadata": {},
     "output_type": "execute_result"
    }
   ],
   "source": [
    "data1= {\"Nmae\": \"Alice\", \"Age\": 25, \"Gender\": \"Female\"}\n",
    "pd.Series(data1)"
   ]
  },
  {
   "cell_type": "code",
   "execution_count": 21,
   "id": "2f0ff146-7787-4179-9ef4-1372b3e67823",
   "metadata": {},
   "outputs": [],
   "source": [
    "data2 = [\n",
    "    {\"Name\": \"Ayush\" , \"Age\": 25, \"Gender\": \"Male\" },\n",
    "    {\"Name\": \"Preeti\" , \"Age\": 23, \"Gender\": \"Female\" },\n",
    "    {\"Name\": \"Rashika\" , \"Age\": 21, \"Gender\": \"Female\" }\n",
    "]\n",
    "\n",
    "df2 = pd.DataFrame(data2)"
   ]
  },
  {
   "cell_type": "code",
   "execution_count": 22,
   "id": "2e49b7e0-9b5b-43d7-9a03-779ed81e385c",
   "metadata": {},
   "outputs": [
    {
     "data": {
      "text/html": [
       "<div>\n",
       "<style scoped>\n",
       "    .dataframe tbody tr th:only-of-type {\n",
       "        vertical-align: middle;\n",
       "    }\n",
       "\n",
       "    .dataframe tbody tr th {\n",
       "        vertical-align: top;\n",
       "    }\n",
       "\n",
       "    .dataframe thead th {\n",
       "        text-align: right;\n",
       "    }\n",
       "</style>\n",
       "<table border=\"1\" class=\"dataframe\">\n",
       "  <thead>\n",
       "    <tr style=\"text-align: right;\">\n",
       "      <th></th>\n",
       "      <th>Name</th>\n",
       "      <th>Age</th>\n",
       "      <th>Gender</th>\n",
       "    </tr>\n",
       "  </thead>\n",
       "  <tbody>\n",
       "    <tr>\n",
       "      <th>0</th>\n",
       "      <td>Ayush</td>\n",
       "      <td>25</td>\n",
       "      <td>Male</td>\n",
       "    </tr>\n",
       "    <tr>\n",
       "      <th>1</th>\n",
       "      <td>Preeti</td>\n",
       "      <td>23</td>\n",
       "      <td>Female</td>\n",
       "    </tr>\n",
       "    <tr>\n",
       "      <th>2</th>\n",
       "      <td>Rashika</td>\n",
       "      <td>21</td>\n",
       "      <td>Female</td>\n",
       "    </tr>\n",
       "  </tbody>\n",
       "</table>\n",
       "</div>"
      ],
      "text/plain": [
       "      Name  Age  Gender\n",
       "0    Ayush   25    Male\n",
       "1   Preeti   23  Female\n",
       "2  Rashika   21  Female"
      ]
     },
     "execution_count": 22,
     "metadata": {},
     "output_type": "execute_result"
    }
   ],
   "source": [
    "df2"
   ]
  },
  {
   "cell_type": "markdown",
   "id": "2e51be57-029c-4012-8acd-fbeff17a20ed",
   "metadata": {},
   "source": [
    "#Ans.5\n"
   ]
  },
  {
   "cell_type": "markdown",
   "id": "1a5d1781-1416-4f21-b4c3-b2314bc9be57",
   "metadata": {},
   "source": [
    "There are many function available in Pandas that allow you to  manipulate data in a DataFrame.\n",
    "\n",
    "1.)  'head()' and 'tail()': These function are used to view the first or last few rows od a DataFrame,respectively. For example you  might use'df.head()' to quickly check the first few rows of large DataFrame to make sure the data is formatted correctly.\n",
    "\n",
    "2.) 'describe()': This function generates a statistical summary of the DataFrame, including count, mean, standard devision, minimum, maximum. and quartile values for each numeric column. for example, you might use and quartile values for each numeric column. For example, you might use 'df.describe()' to quickly get an overview of the range and distribution of values in a numeric column.\n",
    "\n",
    "\n",
    "3.) 'sort_values()': This function sorts the DataFrame by one or more columns. for example , you might use 'df.sort_values(\"Age\")' to sort the DataFrame by the Age columns in ascending order.\n",
    "\n",
    "\n",
    "4.) 'dropna': Drops any rows that contain missing values.\n",
    "\n",
    "5.) 'fillna(value)': Fills missing values in the DataFrame with specified value.\n",
    "\n",
    "6.)'groupby': Group the DataFrames based on a specified key column.\n",
    "\n"
   ]
  },
  {
   "cell_type": "markdown",
   "id": "91357458-d0ab-427a-a736-52a3a582f1cc",
   "metadata": {},
   "source": [
    "#Ans.6"
   ]
  },
  {
   "cell_type": "markdown",
   "id": "fbfc5d03-c334-4692-b20b-6f157092ff57",
   "metadata": {},
   "source": [
    "In Pandas, 'Series' and 'DataFrame' are mutable, where as 'Panel' is considered deprecated and no longer recommended for use.\n",
    "\n",
    "A 'Series' is a one-dimensional array-like object that can hold any data type, such as integers, floats, or strings. you can modify a 'Series' object by changing the values of its elements, adding removing elements, or appending elements to it.\n",
    "\n",
    "A 'DataFrame' is a two-dimensional tabular data structure that consists of rows and columns, similar to a spreadsheet or SQL table. you can modify a 'DataFrame' object by changing the values of its cells, adding or removing columns or rows, or appending new rows to it"
   ]
  },
  {
   "cell_type": "markdown",
   "id": "3e6784db-fd0c-4ccf-b9c8-4a3af9bcdd1d",
   "metadata": {},
   "source": [
    "#Ans.7"
   ]
  },
  {
   "cell_type": "markdown",
   "id": "a0502596-350c-41f3-a799-67e753618ba3",
   "metadata": {},
   "source": [
    "In Pandas, you can create a 'DataFrame' using multiple 'Series' object. A 'Series' is a one-dimensional array-like object that can hold any data type, such as integers, Floats, or strings. A 'DataFrame' is a two=dimensional tabular data structure that consists of rows and columns, similar to a spreadsheet or SQL table."
   ]
  },
  {
   "cell_type": "code",
   "execution_count": 3,
   "id": "e268fdb7-41d9-436b-bd30-8fdd6b38d9b7",
   "metadata": {},
   "outputs": [],
   "source": [
    "data1 = {\n",
    "    'Name': ['Ayush','Vinod','Preeti'],\n",
    "    'Age': [25, 29, 23],\n",
    "    'Gender': ['Male', 'Male', 'Female'],\n",
    "}\n",
    "\n",
    "df4 = pd.DataFrame(data1)"
   ]
  },
  {
   "cell_type": "code",
   "execution_count": 4,
   "id": "bf1478e3-0d85-4bd3-91fd-ae5a14972d78",
   "metadata": {},
   "outputs": [
    {
     "data": {
      "text/html": [
       "<div>\n",
       "<style scoped>\n",
       "    .dataframe tbody tr th:only-of-type {\n",
       "        vertical-align: middle;\n",
       "    }\n",
       "\n",
       "    .dataframe tbody tr th {\n",
       "        vertical-align: top;\n",
       "    }\n",
       "\n",
       "    .dataframe thead th {\n",
       "        text-align: right;\n",
       "    }\n",
       "</style>\n",
       "<table border=\"1\" class=\"dataframe\">\n",
       "  <thead>\n",
       "    <tr style=\"text-align: right;\">\n",
       "      <th></th>\n",
       "      <th>Name</th>\n",
       "      <th>Age</th>\n",
       "      <th>Gender</th>\n",
       "    </tr>\n",
       "  </thead>\n",
       "  <tbody>\n",
       "    <tr>\n",
       "      <th>0</th>\n",
       "      <td>Ayush</td>\n",
       "      <td>25</td>\n",
       "      <td>Male</td>\n",
       "    </tr>\n",
       "    <tr>\n",
       "      <th>1</th>\n",
       "      <td>Vinod</td>\n",
       "      <td>29</td>\n",
       "      <td>Male</td>\n",
       "    </tr>\n",
       "    <tr>\n",
       "      <th>2</th>\n",
       "      <td>Preeti</td>\n",
       "      <td>23</td>\n",
       "      <td>Female</td>\n",
       "    </tr>\n",
       "  </tbody>\n",
       "</table>\n",
       "</div>"
      ],
      "text/plain": [
       "     Name  Age  Gender\n",
       "0   Ayush   25    Male\n",
       "1   Vinod   29    Male\n",
       "2  Preeti   23  Female"
      ]
     },
     "execution_count": 4,
     "metadata": {},
     "output_type": "execute_result"
    }
   ],
   "source": [
    "df4"
   ]
  },
  {
   "cell_type": "code",
   "execution_count": null,
   "id": "5eda3107-6c40-4226-8fd3-874a771a724d",
   "metadata": {},
   "outputs": [],
   "source": []
  }
 ],
 "metadata": {
  "kernelspec": {
   "display_name": "Python 3 (ipykernel)",
   "language": "python",
   "name": "python3"
  },
  "language_info": {
   "codemirror_mode": {
    "name": "ipython",
    "version": 3
   },
   "file_extension": ".py",
   "mimetype": "text/x-python",
   "name": "python",
   "nbconvert_exporter": "python",
   "pygments_lexer": "ipython3",
   "version": "3.10.8"
  }
 },
 "nbformat": 4,
 "nbformat_minor": 5
}
